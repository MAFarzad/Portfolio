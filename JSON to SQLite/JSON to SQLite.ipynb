{
 "cells": [
  {
   "cell_type": "markdown",
   "id": "bdc2e7b4",
   "metadata": {},
   "source": [
    "# Question\n",
    "\n",
    "There is a file containing market data for bitcoin. Convert it to SQLite and analyze the file and find:\n",
    "- the earliest and the latest price\n",
    "- the maximum price for each year"
   ]
  },
  {
   "cell_type": "code",
   "execution_count": 1,
   "id": "d85e9671",
   "metadata": {},
   "outputs": [],
   "source": [
    "import json\n",
    "import sqlite3\n",
    "import  datetime"
   ]
  },
  {
   "cell_type": "code",
   "execution_count": 2,
   "id": "04e6b15a",
   "metadata": {},
   "outputs": [
    {
     "data": {
      "text/plain": [
       "{'symbol': 'btcusd',\n",
       " 'time': 1364688000000,\n",
       " 'open': 92.5,\n",
       " 'close': 93.033,\n",
       " 'high': 93.74999,\n",
       " 'low': 91.0,\n",
       " 'volume': 3083.07979075}"
      ]
     },
     "execution_count": 2,
     "metadata": {},
     "output_type": "execute_result"
    }
   ],
   "source": [
    "# Load JSON file\n",
    "\n",
    "file = open(file='data/bitcoin_price.json')\n",
    "raw_data = json.load(file)\n",
    "file.close()\n",
    "\n",
    "raw_data[0]"
   ]
  },
  {
   "cell_type": "code",
   "execution_count": 3,
   "id": "5e93956c",
   "metadata": {},
   "outputs": [
    {
     "name": "stdout",
     "output_type": "stream",
     "text": [
      "Data is a <class 'list'> of <class 'dict'>\n"
     ]
    }
   ],
   "source": [
    "# check data structure\n",
    "\n",
    "print(f'Data is a {type(raw_data)} of {type(raw_data[0])}')"
   ]
  },
  {
   "cell_type": "markdown",
   "id": "ec5e653d",
   "metadata": {},
   "source": [
    "Data should be prepared as  follows:\n",
    "- 'symbol' is redundant\n",
    "- 'time' is a date in ms but since it is unique so should be kept as INTEGER and used as primary key\n",
    "- 'open', 'close', 'high', 'low' and 'volume' are REAL"
   ]
  },
  {
   "cell_type": "code",
   "execution_count": 4,
   "id": "fcd8e302",
   "metadata": {},
   "outputs": [],
   "source": [
    "# Prepare data to export\n",
    "\n",
    "data = []\n",
    "for row in raw_data:\n",
    "    data.append([row['time'] // 1000, row['open'], row['close'], row['high'], row['low'], row['volume']])"
   ]
  },
  {
   "cell_type": "code",
   "execution_count": 5,
   "id": "468dded1",
   "metadata": {},
   "outputs": [
    {
     "ename": "IntegrityError",
     "evalue": "UNIQUE constraint failed: price.time",
     "output_type": "error",
     "traceback": [
      "\u001b[1;31m---------------------------------------------------------------------------\u001b[0m",
      "\u001b[1;31mIntegrityError\u001b[0m                            Traceback (most recent call last)",
      "Input \u001b[1;32mIn [5]\u001b[0m, in \u001b[0;36m<cell line: 10>\u001b[1;34m()\u001b[0m\n\u001b[0;32m      7\u001b[0m cursor\u001b[38;5;241m.\u001b[39mexecute(command)\n\u001b[0;32m      9\u001b[0m command \u001b[38;5;241m=\u001b[39m \u001b[38;5;124m'\u001b[39m\u001b[38;5;124mINSERT INTO price VALUES (?, ?, ?, ?, ?, ?);\u001b[39m\u001b[38;5;124m'\u001b[39m\n\u001b[1;32m---> 10\u001b[0m \u001b[43mcursor\u001b[49m\u001b[38;5;241;43m.\u001b[39;49m\u001b[43mexecutemany\u001b[49m\u001b[43m(\u001b[49m\u001b[43mcommand\u001b[49m\u001b[43m,\u001b[49m\u001b[43m \u001b[49m\u001b[43mdata\u001b[49m\u001b[43m)\u001b[49m\n\u001b[0;32m     12\u001b[0m connection\u001b[38;5;241m.\u001b[39mcommit()\n\u001b[0;32m     13\u001b[0m connection\u001b[38;5;241m.\u001b[39mclose()\n",
      "\u001b[1;31mIntegrityError\u001b[0m: UNIQUE constraint failed: price.time"
     ]
    }
   ],
   "source": [
    "# Export data to SQLite database\n",
    "\n",
    "connection = sqlite3.connect('data/bitcoin.sql')\n",
    "cursor = connection.cursor()\n",
    "\n",
    "command = 'CREATE TABLE IF NOT EXISTS price (time INTEGER PRIMARY KEY, open REAL, close REAL, high REAL, low REAL, volume REAL);'\n",
    "cursor.execute(command)\n",
    "\n",
    "command = 'INSERT INTO price VALUES (?, ?, ?, ?, ?, ?);'\n",
    "cursor.executemany(command, data)\n",
    "\n",
    "connection.commit()\n",
    "connection.close()"
   ]
  },
  {
   "cell_type": "code",
   "execution_count": 6,
   "id": "d876b0c3",
   "metadata": {},
   "outputs": [
    {
     "name": "stdout",
     "output_type": "stream",
     "text": [
      "First open price: 92.5 on 2013-03-30 20:00:00\n",
      "Last close price: 17686.840768 on 2020-11-27 19:00:00\n",
      "----Yearly Data-----\n",
      "2013:         1138.5\n",
      "2014:         919.24\n",
      "2015:         466.01\n",
      "2016:          981.7\n",
      "2017:        19210.0\n",
      "2018:        17169.0\n",
      "2019:        12876.0\n",
      "2020:        19131.0\n"
     ]
    }
   ],
   "source": [
    "# Read data from database\n",
    "\n",
    "connection = sqlite3.connect('data/bitcoin.sql')\n",
    "cursor = connection.cursor()\n",
    "\n",
    "command = \"\"\"\n",
    "        SELECT MIN(time), open \n",
    "        FROM price;\n",
    "        \"\"\"\n",
    "result = cursor.execute(command).fetchone()\n",
    "print(f'First open price: {result[1]} on {datetime.datetime.fromtimestamp(result[0])}')\n",
    "\n",
    "command = \"\"\"\n",
    "        SELECT MAX(time), close \n",
    "        FROM price;\n",
    "        \"\"\"\n",
    "result = cursor.execute(command).fetchone()\n",
    "print(f'Last close price: {result[1]} on {datetime.datetime.fromtimestamp(result[0])}')\n",
    "\n",
    "command = \"\"\"\n",
    "        SELECT MAX(close), STRFTIME('%Y', DATE(time, 'unixepoch')) as year\n",
    "        FROM price\n",
    "        GROUP BY year\n",
    "        ORDER BY year;\n",
    "        \"\"\"\n",
    "result = cursor.execute(command).fetchall()\n",
    "print('Yearly Data'.center(20, '-'))\n",
    "for row in result:\n",
    "    print(f'{row[1]}: {str(row[0]).rjust(14)}')\n",
    "\n",
    "\n",
    "connection.close()"
   ]
  },
  {
   "cell_type": "code",
   "execution_count": null,
   "id": "0e268f97",
   "metadata": {},
   "outputs": [],
   "source": []
  }
 ],
 "metadata": {
  "kernelspec": {
   "display_name": "Python 3 (ipykernel)",
   "language": "python",
   "name": "python3"
  },
  "language_info": {
   "codemirror_mode": {
    "name": "ipython",
    "version": 3
   },
   "file_extension": ".py",
   "mimetype": "text/x-python",
   "name": "python",
   "nbconvert_exporter": "python",
   "pygments_lexer": "ipython3",
   "version": "3.9.12"
  }
 },
 "nbformat": 4,
 "nbformat_minor": 5
}
