{
 "cells": [
  {
   "cell_type": "code",
   "execution_count": 67,
   "id": "892135da",
   "metadata": {},
   "outputs": [],
   "source": [
    "# Import libraries\n",
    "import pandas as pd"
   ]
  },
  {
   "cell_type": "code",
   "execution_count": 68,
   "id": "6f0950e9",
   "metadata": {},
   "outputs": [],
   "source": [
    "# Load data\n",
    "solar_data_1_raw_df = pd.read_excel('solar_data_1.xlsx', engine='openpyxl')\n",
    "solar_data_2_raw_df = pd.read_excel('solar_data_2.xlsx', engine='openpyxl')"
   ]
  },
  {
   "cell_type": "code",
   "execution_count": 69,
   "id": "5207ee7d",
   "metadata": {},
   "outputs": [
    {
     "name": "stdout",
     "output_type": "stream",
     "text": [
      "Data 1 shape: (21, 7),\n",
      "Data 2 shape: (34, 7), \n"
     ]
    }
   ],
   "source": [
    "# Check for the shapes\n",
    "print(f'Data 1 shape: {solar_data_1_raw_df.shape},\\nData 2 shape: {solar_data_2_raw_df.shape}, ')"
   ]
  },
  {
   "cell_type": "code",
   "execution_count": 70,
   "id": "67b83cfc",
   "metadata": {},
   "outputs": [
    {
     "name": "stdout",
     "output_type": "stream",
     "text": [
      "Data 1 fields: \n",
      "Index(['state_name', 'number_of_panels_total', 'kw_total', 'kw_median',\n",
      "       'yearly_sunlight_kwh_median', 'yearly_sunlight_kwh_total',\n",
      "       'existing_installs_count'],\n",
      "      dtype='object'),\n",
      "\n",
      "Data 2 fields: \n",
      "Index(['state_name', 'number_of_panels_total', 'kw_total', 'kw_median',\n",
      "       'yearly_sunlight_kwh_median', 'yearly_sunlight_kwh_total',\n",
      "       'existing_installs_count'],\n",
      "      dtype='object'), \n"
     ]
    }
   ],
   "source": [
    "# Check for fields\n",
    "print(f'Data 1 fields: \\n{solar_data_1_raw_df.columns},\\n\\nData 2 fields: \\n{solar_data_2_raw_df.columns}, ')"
   ]
  },
  {
   "cell_type": "code",
   "execution_count": 71,
   "id": "07078682",
   "metadata": {},
   "outputs": [
    {
     "data": {
      "text/plain": [
       "(55, 7)"
      ]
     },
     "execution_count": 71,
     "metadata": {},
     "output_type": "execute_result"
    }
   ],
   "source": [
    "# DataFrames are consistent, so they can be concatenated\n",
    "solar_data_df = pd.concat([solar_data_1_raw_df, solar_data_2_raw_df])\n",
    "solar_data_df.shape"
   ]
  },
  {
   "cell_type": "code",
   "execution_count": 72,
   "id": "925a061f",
   "metadata": {},
   "outputs": [
    {
     "name": "stdout",
     "output_type": "stream",
     "text": [
      "Number of duplicated records: 3\n"
     ]
    },
    {
     "data": {
      "text/plain": [
       "(52, 7)"
      ]
     },
     "execution_count": 72,
     "metadata": {},
     "output_type": "execute_result"
    }
   ],
   "source": [
    "# Check with duplicate values and delete them\n",
    "print(f'Number of duplicated records: {solar_data_df.duplicated().sum()}')\n",
    "\n",
    "solar_data_df.drop_duplicates(inplace=True)\n",
    "solar_data_df.shape"
   ]
  },
  {
   "cell_type": "code",
   "execution_count": 73,
   "id": "93746f8d",
   "metadata": {},
   "outputs": [
    {
     "name": "stdout",
     "output_type": "stream",
     "text": [
      "<class 'pandas.core.frame.DataFrame'>\n",
      "Int64Index: 52 entries, 0 to 30\n",
      "Data columns (total 7 columns):\n",
      " #   Column                      Non-Null Count  Dtype  \n",
      "---  ------                      --------------  -----  \n",
      " 0   state_name                  51 non-null     object \n",
      " 1   number_of_panels_total      52 non-null     int64  \n",
      " 2   kw_total                    52 non-null     float64\n",
      " 3   kw_median                   51 non-null     float64\n",
      " 4   yearly_sunlight_kwh_median  51 non-null     float64\n",
      " 5   yearly_sunlight_kwh_total   52 non-null     float64\n",
      " 6   existing_installs_count     51 non-null     float64\n",
      "dtypes: float64(5), int64(1), object(1)\n",
      "memory usage: 3.2+ KB\n"
     ]
    }
   ],
   "source": [
    "# Examine DataFrame\n",
    "# 1- There are some miising values\n",
    "# 2- DataType are correct\n",
    "solar_data_df.info()"
   ]
  },
  {
   "cell_type": "code",
   "execution_count": 74,
   "id": "eb20d798",
   "metadata": {},
   "outputs": [
    {
     "name": "stdout",
     "output_type": "stream",
     "text": [
      "<class 'pandas.core.frame.DataFrame'>\n",
      "Int64Index: 51 entries, 1 to 30\n",
      "Data columns (total 7 columns):\n",
      " #   Column                      Non-Null Count  Dtype  \n",
      "---  ------                      --------------  -----  \n",
      " 0   state_name                  51 non-null     object \n",
      " 1   number_of_panels_total      51 non-null     int64  \n",
      " 2   kw_total                    51 non-null     float64\n",
      " 3   kw_median                   50 non-null     float64\n",
      " 4   yearly_sunlight_kwh_median  50 non-null     float64\n",
      " 5   yearly_sunlight_kwh_total   51 non-null     float64\n",
      " 6   existing_installs_count     50 non-null     float64\n",
      "dtypes: float64(5), int64(1), object(1)\n",
      "memory usage: 3.2+ KB\n"
     ]
    }
   ],
   "source": [
    "# Since the DataFrame consists of states for only record and all states are present, the missing value in this column should be an outlier and will be removed.\n",
    "\n",
    "solar_data_df['state_name'].value_counts()\n",
    "\n",
    "solar_data_df.dropna(subset=['state_name'], inplace=True)\n",
    "solar_data_df.info()"
   ]
  },
  {
   "cell_type": "code",
   "execution_count": 75,
   "id": "31d3d9b4",
   "metadata": {},
   "outputs": [
    {
     "data": {
      "text/plain": [
       "array([[<AxesSubplot:title={'center':'kw_median'}>,\n",
       "        <AxesSubplot:title={'center':'yearly_sunlight_kwh_median'}>],\n",
       "       [<AxesSubplot:title={'center':'existing_installs_count'}>,\n",
       "        <AxesSubplot:>]], dtype=object)"
      ]
     },
     "execution_count": 75,
     "metadata": {},
     "output_type": "execute_result"
    },
    {
     "data": {
      "image/png": "[encoded data removed]",
      "text/plain": [
       "<Figure size 432x288 with 4 Axes>"
      ]
     },
     "metadata": {
      "needs_background": "light"
     },
     "output_type": "display_data"
    }
   ],
   "source": [
    "# Check the distribution of fields with missing values\n",
    "solar_data_df[['kw_median', 'yearly_sunlight_kwh_median', 'existing_installs_count']].hist()"
   ]
  },
  {
   "cell_type": "code",
   "execution_count": 76,
   "id": "1b225afa",
   "metadata": {},
   "outputs": [
    {
     "name": "stdout",
     "output_type": "stream",
     "text": [
      "<class 'pandas.core.frame.DataFrame'>\n",
      "Int64Index: 51 entries, 1 to 30\n",
      "Data columns (total 7 columns):\n",
      " #   Column                      Non-Null Count  Dtype  \n",
      "---  ------                      --------------  -----  \n",
      " 0   state_name                  51 non-null     object \n",
      " 1   number_of_panels_total      51 non-null     int64  \n",
      " 2   kw_total                    51 non-null     float64\n",
      " 3   kw_median                   51 non-null     float64\n",
      " 4   yearly_sunlight_kwh_median  51 non-null     float64\n",
      " 5   yearly_sunlight_kwh_total   51 non-null     float64\n",
      " 6   existing_installs_count     50 non-null     float64\n",
      "dtypes: float64(5), int64(1), object(1)\n",
      "memory usage: 3.2+ KB\n"
     ]
    }
   ],
   "source": [
    "# Both 'kw_median' and 'yearly_sunlight_kwh_median' are somehow sckewd normal distribution, so the missing value will be filled with median.\n",
    "solar_data_df['kw_median'].fillna(solar_data_df['kw_median'].median(), inplace=True)\n",
    "solar_data_df['yearly_sunlight_kwh_median'].fillna(solar_data_df['yearly_sunlight_kwh_median'].median(), inplace=True)\n",
    "solar_data_df.info()"
   ]
  },
  {
   "cell_type": "code",
   "execution_count": 77,
   "id": "a23545c5",
   "metadata": {},
   "outputs": [
    {
     "name": "stdout",
     "output_type": "stream",
     "text": [
      "<class 'pandas.core.frame.DataFrame'>\n",
      "Int64Index: 51 entries, 1 to 30\n",
      "Data columns (total 7 columns):\n",
      " #   Column                      Non-Null Count  Dtype  \n",
      "---  ------                      --------------  -----  \n",
      " 0   state_name                  51 non-null     object \n",
      " 1   number_of_panels_total      51 non-null     int64  \n",
      " 2   kw_total                    51 non-null     float64\n",
      " 3   kw_median                   51 non-null     float64\n",
      " 4   yearly_sunlight_kwh_median  51 non-null     float64\n",
      " 5   yearly_sunlight_kwh_total   51 non-null     float64\n",
      " 6   existing_installs_count     51 non-null     float64\n",
      "dtypes: float64(5), int64(1), object(1)\n",
      "memory usage: 3.2+ KB\n"
     ]
    }
   ],
   "source": [
    "# 'existing_installs_count' is concentrated on an specific region, so the missing value will be filled with mode.\n",
    "solar_data_df['existing_installs_count'].fillna(solar_data_df['existing_installs_count'].mode(), inplace=True)\n",
    "solar_data_df.info()"
   ]
  },
  {
   "cell_type": "code",
   "execution_count": 78,
   "id": "842f6091",
   "metadata": {
    "scrolled": true
   },
   "outputs": [
    {
     "data": {
      "text/html": [
       "<div>\n",
       "<style scoped>\n",
       "    .dataframe tbody tr th:only-of-type {\n",
       "        vertical-align: middle;\n",
       "    }\n",
       "\n",
       "    .dataframe tbody tr th {\n",
       "        vertical-align: top;\n",
       "    }\n",
       "\n",
       "    .dataframe thead th {\n",
       "        text-align: right;\n",
       "    }\n",
       "</style>\n",
       "<table border=\"1\" class=\"dataframe\">\n",
       "  <thead>\n",
       "    <tr style=\"text-align: right;\">\n",
       "      <th></th>\n",
       "      <th>number_of_panels_total</th>\n",
       "      <th>kw_total</th>\n",
       "      <th>kw_median</th>\n",
       "      <th>yearly_sunlight_kwh_median</th>\n",
       "      <th>yearly_sunlight_kwh_total</th>\n",
       "      <th>existing_installs_count</th>\n",
       "    </tr>\n",
       "  </thead>\n",
       "  <tbody>\n",
       "    <tr>\n",
       "      <th>number_of_panels_total</th>\n",
       "      <td>1.000000</td>\n",
       "      <td>1.000000</td>\n",
       "      <td>0.292546</td>\n",
       "      <td>0.303214</td>\n",
       "      <td>0.995478</td>\n",
       "      <td>0.818074</td>\n",
       "    </tr>\n",
       "    <tr>\n",
       "      <th>kw_total</th>\n",
       "      <td>1.000000</td>\n",
       "      <td>1.000000</td>\n",
       "      <td>0.292546</td>\n",
       "      <td>0.303214</td>\n",
       "      <td>0.995478</td>\n",
       "      <td>0.818074</td>\n",
       "    </tr>\n",
       "    <tr>\n",
       "      <th>kw_median</th>\n",
       "      <td>0.292546</td>\n",
       "      <td>0.292546</td>\n",
       "      <td>1.000000</td>\n",
       "      <td>0.920713</td>\n",
       "      <td>0.318872</td>\n",
       "      <td>0.273429</td>\n",
       "    </tr>\n",
       "    <tr>\n",
       "      <th>yearly_sunlight_kwh_median</th>\n",
       "      <td>0.303214</td>\n",
       "      <td>0.303214</td>\n",
       "      <td>0.920713</td>\n",
       "      <td>1.000000</td>\n",
       "      <td>0.343703</td>\n",
       "      <td>0.326113</td>\n",
       "    </tr>\n",
       "    <tr>\n",
       "      <th>yearly_sunlight_kwh_total</th>\n",
       "      <td>0.995478</td>\n",
       "      <td>0.995478</td>\n",
       "      <td>0.318872</td>\n",
       "      <td>0.343703</td>\n",
       "      <td>1.000000</td>\n",
       "      <td>0.855928</td>\n",
       "    </tr>\n",
       "    <tr>\n",
       "      <th>existing_installs_count</th>\n",
       "      <td>0.818074</td>\n",
       "      <td>0.818074</td>\n",
       "      <td>0.273429</td>\n",
       "      <td>0.326113</td>\n",
       "      <td>0.855928</td>\n",
       "      <td>1.000000</td>\n",
       "    </tr>\n",
       "  </tbody>\n",
       "</table>\n",
       "</div>"
      ],
      "text/plain": [
       "                            number_of_panels_total  kw_total  kw_median  \\\n",
       "number_of_panels_total                    1.000000  1.000000   0.292546   \n",
       "kw_total                                  1.000000  1.000000   0.292546   \n",
       "kw_median                                 0.292546  0.292546   1.000000   \n",
       "yearly_sunlight_kwh_median                0.303214  0.303214   0.920713   \n",
       "yearly_sunlight_kwh_total                 0.995478  0.995478   0.318872   \n",
       "existing_installs_count                   0.818074  0.818074   0.273429   \n",
       "\n",
       "                            yearly_sunlight_kwh_median  \\\n",
       "number_of_panels_total                        0.303214   \n",
       "kw_total                                      0.303214   \n",
       "kw_median                                     0.920713   \n",
       "yearly_sunlight_kwh_median                    1.000000   \n",
       "yearly_sunlight_kwh_total                     0.343703   \n",
       "existing_installs_count                       0.326113   \n",
       "\n",
       "                            yearly_sunlight_kwh_total  existing_installs_count  \n",
       "number_of_panels_total                       0.995478                 0.818074  \n",
       "kw_total                                     0.995478                 0.818074  \n",
       "kw_median                                    0.318872                 0.273429  \n",
       "yearly_sunlight_kwh_median                   0.343703                 0.326113  \n",
       "yearly_sunlight_kwh_total                    1.000000                 0.855928  \n",
       "existing_installs_count                      0.855928                 1.000000  "
      ]
     },
     "execution_count": 78,
     "metadata": {},
     "output_type": "execute_result"
    }
   ],
   "source": [
    "# Examine correlation\n",
    "solar_data_df.corr()\n",
    "\n",
    "# it seems that 'median' values and 'total' values have good corellation with each other.\n",
    "#solar_data_df[['number_of_panels_total', 'kw_total', 'yearly_sunlight_kwh_total', 'existing_installs_count']].corr()\n",
    "#solar_data_df[['kw_median', 'yearly_sunlight_kwh_median']].corr()"
   ]
  },
  {
   "cell_type": "code",
   "execution_count": 59,
   "id": "39b5b984",
   "metadata": {},
   "outputs": [
    {
     "data": {
      "text/html": [
       "<div>\n",
       "<style scoped>\n",
       "    .dataframe tbody tr th:only-of-type {\n",
       "        vertical-align: middle;\n",
       "    }\n",
       "\n",
       "    .dataframe tbody tr th {\n",
       "        vertical-align: top;\n",
       "    }\n",
       "\n",
       "    .dataframe thead th {\n",
       "        text-align: right;\n",
       "    }\n",
       "</style>\n",
       "<table border=\"1\" class=\"dataframe\">\n",
       "  <thead>\n",
       "    <tr style=\"text-align: right;\">\n",
       "      <th></th>\n",
       "      <th>state_name</th>\n",
       "      <th>number_of_panels_total</th>\n",
       "      <th>kw_total</th>\n",
       "      <th>kw_median</th>\n",
       "      <th>yearly_sunlight_kwh_median</th>\n",
       "      <th>yearly_sunlight_kwh_total</th>\n",
       "      <th>existing_installs_count</th>\n",
       "    </tr>\n",
       "  </thead>\n",
       "  <tbody>\n",
       "    <tr>\n",
       "      <th>1</th>\n",
       "      <td>Massachusetts</td>\n",
       "      <td>52098838</td>\n",
       "      <td>1.302471e+07</td>\n",
       "      <td>5.75</td>\n",
       "      <td>6571.621021</td>\n",
       "      <td>1.486191e+10</td>\n",
       "      <td>15331.0</td>\n",
       "    </tr>\n",
       "    <tr>\n",
       "      <th>12</th>\n",
       "      <td>New York</td>\n",
       "      <td>121650217</td>\n",
       "      <td>3.041255e+07</td>\n",
       "      <td>6.25</td>\n",
       "      <td>7195.039160</td>\n",
       "      <td>3.492613e+10</td>\n",
       "      <td>19979.0</td>\n",
       "    </tr>\n",
       "    <tr>\n",
       "      <th>6</th>\n",
       "      <td>Colorado</td>\n",
       "      <td>55174753</td>\n",
       "      <td>1.379369e+07</td>\n",
       "      <td>6.75</td>\n",
       "      <td>9690.190088</td>\n",
       "      <td>1.970758e+10</td>\n",
       "      <td>24140.0</td>\n",
       "    </tr>\n",
       "    <tr>\n",
       "      <th>12</th>\n",
       "      <td>Hawaii</td>\n",
       "      <td>15969111</td>\n",
       "      <td>3.992278e+06</td>\n",
       "      <td>13.00</td>\n",
       "      <td>19004.649878</td>\n",
       "      <td>6.004369e+09</td>\n",
       "      <td>25414.0</td>\n",
       "    </tr>\n",
       "    <tr>\n",
       "      <th>3</th>\n",
       "      <td>Arizona</td>\n",
       "      <td>114697808</td>\n",
       "      <td>2.867445e+07</td>\n",
       "      <td>11.75</td>\n",
       "      <td>18974.796637</td>\n",
       "      <td>4.639329e+10</td>\n",
       "      <td>39553.0</td>\n",
       "    </tr>\n",
       "    <tr>\n",
       "      <th>10</th>\n",
       "      <td>Florida</td>\n",
       "      <td>305682374</td>\n",
       "      <td>7.642059e+07</td>\n",
       "      <td>12.75</td>\n",
       "      <td>17250.183057</td>\n",
       "      <td>1.050627e+11</td>\n",
       "      <td>104123.0</td>\n",
       "    </tr>\n",
       "    <tr>\n",
       "      <th>5</th>\n",
       "      <td>California</td>\n",
       "      <td>531022657</td>\n",
       "      <td>1.327557e+08</td>\n",
       "      <td>9.75</td>\n",
       "      <td>14460.077979</td>\n",
       "      <td>1.980163e+11</td>\n",
       "      <td>328899.0</td>\n",
       "    </tr>\n",
       "  </tbody>\n",
       "</table>\n",
       "</div>"
      ],
      "text/plain": [
       "       state_name  number_of_panels_total      kw_total  kw_median  \\\n",
       "1   Massachusetts                52098838  1.302471e+07       5.75   \n",
       "12       New York               121650217  3.041255e+07       6.25   \n",
       "6        Colorado                55174753  1.379369e+07       6.75   \n",
       "12         Hawaii                15969111  3.992278e+06      13.00   \n",
       "3         Arizona               114697808  2.867445e+07      11.75   \n",
       "10        Florida               305682374  7.642059e+07      12.75   \n",
       "5      California               531022657  1.327557e+08       9.75   \n",
       "\n",
       "    yearly_sunlight_kwh_median  yearly_sunlight_kwh_total  \\\n",
       "1                  6571.621021               1.486191e+10   \n",
       "12                 7195.039160               3.492613e+10   \n",
       "6                  9690.190088               1.970758e+10   \n",
       "12                19004.649878               6.004369e+09   \n",
       "3                 18974.796637               4.639329e+10   \n",
       "10                17250.183057               1.050627e+11   \n",
       "5                 14460.077979               1.980163e+11   \n",
       "\n",
       "    existing_installs_count  \n",
       "1                   15331.0  \n",
       "12                  19979.0  \n",
       "6                   24140.0  \n",
       "12                  25414.0  \n",
       "3                   39553.0  \n",
       "10                 104123.0  \n",
       "5                  328899.0  "
      ]
     },
     "execution_count": 59,
     "metadata": {},
     "output_type": "execute_result"
    },
    {
     "data": {
      "image/png": "[encoded data removed]",
      "text/plain": [
       "<Figure size 432x288 with 1 Axes>"
      ]
     },
     "metadata": {
      "needs_background": "light"
     },
     "output_type": "display_data"
    }
   ],
   "source": [
    "# Eamice the least correlation\n",
    "solar_data_df.plot.scatter(x='kw_median', y='existing_installs_count')\n",
    "\n",
    "# it seems we have some outliers\n",
    "q1 = solar_data_df['existing_installs_count'].quantile(0.25)\n",
    "q3 = solar_data_df['existing_installs_count'].quantile(0.75)\n",
    "iqr = q3 - q1\n",
    "upper_boundary = q3 + 1.5 * iqr\n",
    "lower_boundary = q1 - 1.5 * iqr\n",
    "outliers_df = solar_data_df.loc[(solar_data_df['existing_installs_count'] < lower_boundary) | (solar_data_df['existing_installs_count'] > upper_boundary)]\n",
    "\n",
    "outliers_df.sort_values(['existing_installs_count'])"
   ]
  },
  {
   "cell_type": "code",
   "execution_count": 79,
   "id": "39447df1",
   "metadata": {},
   "outputs": [],
   "source": [
    "# Save cleaned data\n",
    "solar_data_df.to_excel('cleaned_solar_data.xlsx', index=False)"
   ]
  },
  {
   "cell_type": "code",
   "execution_count": 80,
   "id": "a7926d72",
   "metadata": {},
   "outputs": [
    {
     "data": {
      "text/plain": [
       "\"\\nTwo excel files have been loaded, merged and the duplications have been removed.\\nMissing values have been either droped or filled.\\nThen, the data has been exported for downstream users.\\n\\nIt seems thet solar energy is very popular in 'California' and 'Florida', that may be related to expensive electricity or govermental incentives.\\n\""
      ]
     },
     "execution_count": 80,
     "metadata": {},
     "output_type": "execute_result"
    }
   ],
   "source": [
    "# Summary\n",
    "\"\"\"\n",
    "Two excel files have been loaded, merged and the duplications have been removed.\n",
    "Missing values have been either droped or filled.\n",
    "Then, the data has been exported for downstream users.\n",
    "\n",
    "It seems thet solar energy is very popular in 'California' and 'Florida', that may be related to expensive electricity or govermental incentives.\n",
    "\"\"\""
   ]
  },
  {
   "cell_type": "code",
   "execution_count": null,
   "id": "70cc33ca",
   "metadata": {},
   "outputs": [],
   "source": []
  }
 ],
 "metadata": {
  "kernelspec": {
   "display_name": "Python 3 (ipykernel)",
   "language": "python",
   "name": "python3"
  },
  "language_info": {
   "codemirror_mode": {
    "name": "ipython",
    "version": 3
   },
   "file_extension": ".py",
   "mimetype": "text/x-python",
   "name": "python",
   "nbconvert_exporter": "python",
   "pygments_lexer": "ipython3",
   "version": "3.9.12"
  }
 },
 "nbformat": 4,
 "nbformat_minor": 5
}
