{
 "cells": [
  {
   "cell_type": "code",
   "execution_count": 1,
   "id": "41772a7c",
   "metadata": {},
   "outputs": [
    {
     "name": "stdout",
     "output_type": "stream",
     "text": [
      "pygame 2.1.2 (SDL 2.0.18, Python 3.9.12)\n",
      "Hello from the pygame community. https://www.pygame.org/contribute.html\n"
     ]
    },
    {
     "ename": "SystemExit",
     "evalue": "",
     "output_type": "error",
     "traceback": [
      "An exception has occurred, use %tb to see the full traceback.\n",
      "\u001b[1;31mSystemExit\u001b[0m\n"
     ]
    },
    {
     "name": "stderr",
     "output_type": "stream",
     "text": [
      "C:\\Users\\mafar\\anaconda3\\lib\\site-packages\\IPython\\core\\interactiveshell.py:3405: UserWarning: To exit: use 'exit', 'quit', or Ctrl-D.\n",
      "  warn(\"To exit: use 'exit', 'quit', or Ctrl-D.\", stacklevel=1)\n"
     ]
    }
   ],
   "source": [
    "import pygame\n",
    "import sys\n",
    "import random\n",
    "from Ball import *\n",
    "\n",
    "N_BALLS = 3\n",
    "WINDOW_WIDTH = 640\n",
    "WINDOW_HEIGHT = 480\n",
    "FRAMES_PER_SECOND = 30\n",
    "BLACK = (0, 0, 0)\n",
    "\n",
    "\n",
    "pygame.init()\n",
    "window = pygame.display.set_mode((WINDOW_WIDTH, WINDOW_HEIGHT))\n",
    "clock = pygame.time.Clock()\n",
    "\n",
    "bounceSound = pygame.mixer.Sound('sounds/boing.wav')\n",
    "\n",
    "ballList = []\n",
    "for oBall in range(0, N_BALLS):\n",
    "    oBall = Ball(window, WINDOW_WIDTH, WINDOW_HEIGHT, bounceSound)\n",
    "    ballList.append(oBall)\n",
    "\n",
    "while True:\n",
    "    for event in pygame.event.get():\n",
    "        if event.type == pygame.QUIT:\n",
    "            pygame.quit()\n",
    "            sys.exit()\n",
    "\n",
    "            \n",
    "    for oBall in ballList:\n",
    "        oBall.update()\n",
    "    \n",
    "    window.fill(BLACK)\n",
    "    \n",
    "    for oBall in ballList:\n",
    "        oBall.draw()\n",
    "\n",
    "    pygame.display.update()\n",
    "\n",
    "    clock.tick(FRAMES_PER_SECOND)"
   ]
  },
  {
   "cell_type": "code",
   "execution_count": null,
   "id": "1234e96e",
   "metadata": {},
   "outputs": [],
   "source": []
  },
  {
   "cell_type": "code",
   "execution_count": null,
   "id": "0f6bccf8",
   "metadata": {},
   "outputs": [],
   "source": []
  },
  {
   "cell_type": "code",
   "execution_count": null,
   "id": "cfd0ed33",
   "metadata": {},
   "outputs": [],
   "source": []
  }
 ],
 "metadata": {
  "kernelspec": {
   "display_name": "Python 3 (ipykernel)",
   "language": "python",
   "name": "python3"
  },
  "language_info": {
   "codemirror_mode": {
    "name": "ipython",
    "version": 3
   },
   "file_extension": ".py",
   "mimetype": "text/x-python",
   "name": "python",
   "nbconvert_exporter": "python",
   "pygments_lexer": "ipython3",
   "version": "3.9.12"
  }
 },
 "nbformat": 4,
 "nbformat_minor": 5
}
